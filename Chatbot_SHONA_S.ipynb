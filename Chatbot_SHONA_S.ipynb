{
  "cells": [
    {
      "cell_type": "markdown",
      "metadata": {
        "id": "view-in-github",
        "colab_type": "text"
      },
      "source": [
        "<a href=\"https://colab.research.google.com/github/sakthivelshona/chatbot/blob/main/Chatbot_SHONA_S.ipynb\" target=\"_parent\"><img src=\"https://colab.research.google.com/assets/colab-badge.svg\" alt=\"Open In Colab\"/></a>"
      ]
    },
    {
      "cell_type": "code",
      "execution_count": null,
      "metadata": {
        "id": "tu5YUKeIcawT"
      },
      "outputs": [],
      "source": [
        "# Response of ChatBot\n",
        "import random\n",
        "user = \"Shona\" \n",
        "monsoon = \"Cloudy\" \n",
        "mood = \"Good\"\n",
        "action = \"Study\"\n",
        "\n",
        "\n",
        "resp = { \n",
        "    \n",
        "\n",
        "\"what's your name?\": [ \n",
        "\"They call me {0}\".format(user), \n",
        "\"I usually go by {0}\".format(user), \n",
        "\"My name is the {0}\".format(user) ],\n",
        "\n",
        "\n",
        "\"what's today's weather?\": [ \n",
        "\"The weather is {0}\".format(monsoon), \n",
        "\"It's {0} today\".format(monsoon)], \n",
        "\n",
        "\"what are you doing?\": [ \n",
        "\" {0} well to get good marks\".format(action), \n",
        "\"Shona is {0}ing today\".format(action)], \n",
        "\n",
        "\"how are you?\": [ \n",
        "\"I am feeling {0}\".format(mood), \n",
        "\"{0}! How about you?\".format(mood), \n",
        "\"I am {0}! How about yourself?\".format(mood), ],\n",
        "\"\": [ \n",
        "\"Hey! Are you there?\", \n",
        "\"What do you mean by these?\", \n",
        " ],\n",
        "\n",
        "\n",
        "\"default\": [\n",
        "\"This is a default message\"]\n",
        "\n",
        " }"
      ]
    },
    {
      "cell_type": "code",
      "execution_count": null,
      "metadata": {
        "id": "x6kF-gFepjc-"
      },
      "outputs": [],
      "source": [
        "#Creating a Function Response\n",
        "import random\n",
        "def res(message):\n",
        "  if message in resp: \n",
        "    bot286_message = random.choice(resp[message])\n",
        "  else: \n",
        "    bot286_message = random.choice(resp[\"default\"])\n",
        "  return bot286_message"
      ]
    },
    {
      "cell_type": "code",
      "execution_count": null,
      "metadata": {
        "id": "p2fdj_odpqB0"
      },
      "outputs": [],
      "source": [
        "#Another Function\n",
        "def real(xtext): \n",
        "  if \"name\" in xtext: \n",
        "        ytext = \"what's your name?\"\n",
        "  elif \"weather\" in xtext: \n",
        "        ytext = \"what's today's weather?\"\n",
        "  elif \"how are\" in xtext: \n",
        "        ytext = \"how are you?\"\n",
        "  elif \"what are\" in xtext: \n",
        "        ytext = \"what are you doing?\"\n",
        "  else:\n",
        "        ytext = \"\"\n",
        "  return ytext"
      ]
    },
    {
      "cell_type": "code",
      "execution_count": null,
      "metadata": {
        "id": "HygLQ6typv2V"
      },
      "outputs": [],
      "source": [
        "# Sending back the message function\n",
        "def send_message(message): \n",
        "  print((message)) \n",
        "  response = res(message) \n",
        "  print((response))"
      ]
    },
    {
      "cell_type": "code",
      "execution_count": null,
      "metadata": {
        "colab": {
          "base_uri": "https://localhost:8080/"
        },
        "id": "MCz9tP2Tp0BG",
        "outputId": "f7f1e368-fe7c-4d69-d004-e6a315a9ca48"
      },
      "outputs": [
        {
          "output_type": "stream",
          "name": "stdout",
          "text": [
            "ur name\n",
            "what's your name?\n",
            "My name is the Shona\n",
            "todays weather\n",
            "what's today's weather?\n",
            "It's Cloudy today\n",
            "how are u google\n",
            "how are you?\n",
            "Good! How about you?\n",
            "what are u doing now\n",
            "how are you?\n",
            "I am feeling Good\n",
            "good\n",
            "\n",
            "Hey! Are you there?\n",
            "exit\n",
            "\n",
            "Hey! Are you there?\n"
          ]
        }
      ],
      "source": [
        "#Final Step to break the loop\n",
        "while 1: \n",
        "  my_input = input() \n",
        "  my_input = my_input.lower() \n",
        "  related_text = real(my_input) \n",
        "  send_message(related_text)\n",
        "  if my_input == \"exit\" or my_input == \"stop\": \n",
        "    break"
      ]
    },
    {
      "cell_type": "code",
      "execution_count": null,
      "metadata": {
        "id": "MLh9H419r8cA"
      },
      "outputs": [],
      "source": []
    }
  ],
  "metadata": {
    "colab": {
      "provenance": [],
      "include_colab_link": true
    },
    "kernelspec": {
      "display_name": "Python 3",
      "name": "python3"
    },
    "language_info": {
      "name": "python"
    }
  },
  "nbformat": 4,
  "nbformat_minor": 0
}